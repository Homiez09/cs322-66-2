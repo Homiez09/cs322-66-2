{
 "cells": [
  {
   "cell_type": "markdown",
   "id": "58562fa5",
   "metadata": {},
   "source": [
    "# 6510405750 ภูมิระพี เสริญวณิชกุล"
   ]
  },
  {
   "cell_type": "code",
   "execution_count": 101,
   "id": "65c92661-6800-4a86-a1c0-0ccf009a525b",
   "metadata": {},
   "outputs": [],
   "source": [
    "import pandas as pd"
   ]
  },
  {
   "cell_type": "markdown",
   "id": "2fd885a9",
   "metadata": {},
   "source": [
    "# 1.โหลดไฟล์ที่ชื่อ olympic_cleaned.csv ขึ้นมาใน DataFrame ที่ชื่อ medals"
   ]
  },
  {
   "cell_type": "code",
   "execution_count": 102,
   "id": "2f297668",
   "metadata": {},
   "outputs": [],
   "source": [
    "medals = pd.read_csv('data/olympics_cleaned.csv')"
   ]
  },
  {
   "cell_type": "markdown",
   "id": "040f46d5",
   "metadata": {},
   "source": [
    "# 2.แสดงจำนวนแถวและจำนวนคอลัมน์ของ medals"
   ]
  },
  {
   "cell_type": "code",
   "execution_count": 103,
   "id": "70553d4a",
   "metadata": {},
   "outputs": [
    {
     "data": {
      "text/plain": [
       "(146, 10)"
      ]
     },
     "execution_count": 103,
     "metadata": {},
     "output_type": "execute_result"
    }
   ],
   "source": [
    "medals.shape"
   ]
  },
  {
   "cell_type": "code",
   "execution_count": 104,
   "id": "cdfb0d2c",
   "metadata": {},
   "outputs": [
    {
     "data": {
      "text/html": [
       "<div>\n",
       "<style scoped>\n",
       "    .dataframe tbody tr th:only-of-type {\n",
       "        vertical-align: middle;\n",
       "    }\n",
       "\n",
       "    .dataframe tbody tr th {\n",
       "        vertical-align: top;\n",
       "    }\n",
       "\n",
       "    .dataframe thead th {\n",
       "        text-align: right;\n",
       "    }\n",
       "</style>\n",
       "<table border=\"1\" class=\"dataframe\">\n",
       "  <thead>\n",
       "    <tr style=\"text-align: right;\">\n",
       "      <th></th>\n",
       "      <th>Country</th>\n",
       "      <th>Code</th>\n",
       "      <th>SummerGame</th>\n",
       "      <th>SummerGold</th>\n",
       "      <th>SummerSilver</th>\n",
       "      <th>SummerBronze</th>\n",
       "      <th>WinterGame</th>\n",
       "      <th>WinterGold</th>\n",
       "      <th>WinterSilver</th>\n",
       "      <th>WinterBronze</th>\n",
       "    </tr>\n",
       "  </thead>\n",
       "  <tbody>\n",
       "    <tr>\n",
       "      <th>0</th>\n",
       "      <td>Afghanistan</td>\n",
       "      <td>AFG</td>\n",
       "      <td>13</td>\n",
       "      <td>0</td>\n",
       "      <td>0</td>\n",
       "      <td>2</td>\n",
       "      <td>0</td>\n",
       "      <td>0</td>\n",
       "      <td>0</td>\n",
       "      <td>0</td>\n",
       "    </tr>\n",
       "    <tr>\n",
       "      <th>1</th>\n",
       "      <td>Algeria</td>\n",
       "      <td>ALG</td>\n",
       "      <td>12</td>\n",
       "      <td>5</td>\n",
       "      <td>2</td>\n",
       "      <td>8</td>\n",
       "      <td>3</td>\n",
       "      <td>0</td>\n",
       "      <td>0</td>\n",
       "      <td>0</td>\n",
       "    </tr>\n",
       "    <tr>\n",
       "      <th>2</th>\n",
       "      <td>Argentina</td>\n",
       "      <td>ARG</td>\n",
       "      <td>23</td>\n",
       "      <td>18</td>\n",
       "      <td>24</td>\n",
       "      <td>28</td>\n",
       "      <td>18</td>\n",
       "      <td>0</td>\n",
       "      <td>0</td>\n",
       "      <td>0</td>\n",
       "    </tr>\n",
       "    <tr>\n",
       "      <th>3</th>\n",
       "      <td>Armenia</td>\n",
       "      <td>ARM</td>\n",
       "      <td>5</td>\n",
       "      <td>1</td>\n",
       "      <td>2</td>\n",
       "      <td>9</td>\n",
       "      <td>6</td>\n",
       "      <td>0</td>\n",
       "      <td>0</td>\n",
       "      <td>0</td>\n",
       "    </tr>\n",
       "    <tr>\n",
       "      <th>4</th>\n",
       "      <td>Australasia</td>\n",
       "      <td>ANZ</td>\n",
       "      <td>2</td>\n",
       "      <td>3</td>\n",
       "      <td>4</td>\n",
       "      <td>5</td>\n",
       "      <td>0</td>\n",
       "      <td>0</td>\n",
       "      <td>0</td>\n",
       "      <td>0</td>\n",
       "    </tr>\n",
       "  </tbody>\n",
       "</table>\n",
       "</div>"
      ],
      "text/plain": [
       "       Country Code  SummerGame  SummerGold  SummerSilver  SummerBronze  \\\n",
       "0  Afghanistan  AFG          13           0             0             2   \n",
       "1      Algeria  ALG          12           5             2             8   \n",
       "2    Argentina  ARG          23          18            24            28   \n",
       "3      Armenia  ARM           5           1             2             9   \n",
       "4  Australasia  ANZ           2           3             4             5   \n",
       "\n",
       "   WinterGame  WinterGold  WinterSilver  WinterBronze  \n",
       "0           0           0             0             0  \n",
       "1           3           0             0             0  \n",
       "2          18           0             0             0  \n",
       "3           6           0             0             0  \n",
       "4           0           0             0             0  "
      ]
     },
     "execution_count": 104,
     "metadata": {},
     "output_type": "execute_result"
    }
   ],
   "source": [
    "medals.head(5)"
   ]
  },
  {
   "cell_type": "markdown",
   "id": "f35b5fa0",
   "metadata": {},
   "source": [
    "# 3.ตรวจสอบว่ารหัสประเทศ (Code) ไม่มีซ้ำกันด้วย attribute is_unique"
   ]
  },
  {
   "cell_type": "code",
   "execution_count": 105,
   "id": "9c1cc9a2",
   "metadata": {},
   "outputs": [
    {
     "data": {
      "text/plain": [
       "True"
      ]
     },
     "execution_count": 105,
     "metadata": {},
     "output_type": "execute_result"
    }
   ],
   "source": [
    "medals['Code'].is_unique"
   ]
  },
  {
   "cell_type": "markdown",
   "id": "695c11ee",
   "metadata": {},
   "source": [
    "# 4.ตั้งรหัสประเทศให้เป็น index"
   ]
  },
  {
   "cell_type": "code",
   "execution_count": 106,
   "id": "e367220d",
   "metadata": {},
   "outputs": [],
   "source": [
    "medals = medals.set_index('Code')"
   ]
  },
  {
   "cell_type": "markdown",
   "id": "fbd44000",
   "metadata": {},
   "source": [
    "# 5.แสดงคอลัมน์เหรียญทองโอลิมปิคฤดูร้อน (SummerGold)"
   ]
  },
  {
   "cell_type": "code",
   "execution_count": 107,
   "id": "e97a6274",
   "metadata": {},
   "outputs": [
    {
     "data": {
      "text/plain": [
       "Code\n",
       "AFG     0\n",
       "ALG     5\n",
       "ARG    18\n",
       "ARM     1\n",
       "ANZ     3\n",
       "Name: SummerGold, dtype: int64"
      ]
     },
     "execution_count": 107,
     "metadata": {},
     "output_type": "execute_result"
    }
   ],
   "source": [
    "medals['SummerGold'].head(5)"
   ]
  },
  {
   "cell_type": "markdown",
   "id": "57dc9c9c",
   "metadata": {},
   "source": [
    "# 6.แสดงข้อมูลของประเทศสหรัฐอเมริกา (USA)"
   ]
  },
  {
   "cell_type": "code",
   "execution_count": 108,
   "id": "766a70e5",
   "metadata": {},
   "outputs": [
    {
     "data": {
      "text/plain": [
       "Country         United States\n",
       "SummerGame                 26\n",
       "SummerGold                976\n",
       "SummerSilver              757\n",
       "SummerBronze              666\n",
       "WinterGame                 22\n",
       "WinterGold                 96\n",
       "WinterSilver              102\n",
       "WinterBronze               84\n",
       "Name: USA, dtype: object"
      ]
     },
     "execution_count": 108,
     "metadata": {},
     "output_type": "execute_result"
    }
   ],
   "source": [
    "medals.loc[\"USA\"]"
   ]
  },
  {
   "cell_type": "markdown",
   "id": "be4346ac",
   "metadata": {},
   "source": [
    "# 7.แสดงเฉพาะข้อมูลของโอลิมปิคฤดูร้อนของทุกประเทศ (คอลัมน์ที่ขึ้นต้นด้วยคำว่า Summer)"
   ]
  },
  {
   "cell_type": "code",
   "execution_count": 109,
   "id": "7f5668f3",
   "metadata": {},
   "outputs": [
    {
     "data": {
      "text/html": [
       "<div>\n",
       "<style scoped>\n",
       "    .dataframe tbody tr th:only-of-type {\n",
       "        vertical-align: middle;\n",
       "    }\n",
       "\n",
       "    .dataframe tbody tr th {\n",
       "        vertical-align: top;\n",
       "    }\n",
       "\n",
       "    .dataframe thead th {\n",
       "        text-align: right;\n",
       "    }\n",
       "</style>\n",
       "<table border=\"1\" class=\"dataframe\">\n",
       "  <thead>\n",
       "    <tr style=\"text-align: right;\">\n",
       "      <th></th>\n",
       "      <th>SummerGame</th>\n",
       "      <th>SummerGold</th>\n",
       "      <th>SummerSilver</th>\n",
       "      <th>SummerBronze</th>\n",
       "    </tr>\n",
       "    <tr>\n",
       "      <th>Code</th>\n",
       "      <th></th>\n",
       "      <th></th>\n",
       "      <th></th>\n",
       "      <th></th>\n",
       "    </tr>\n",
       "  </thead>\n",
       "  <tbody>\n",
       "    <tr>\n",
       "      <th>AFG</th>\n",
       "      <td>13</td>\n",
       "      <td>0</td>\n",
       "      <td>0</td>\n",
       "      <td>2</td>\n",
       "    </tr>\n",
       "    <tr>\n",
       "      <th>ALG</th>\n",
       "      <td>12</td>\n",
       "      <td>5</td>\n",
       "      <td>2</td>\n",
       "      <td>8</td>\n",
       "    </tr>\n",
       "    <tr>\n",
       "      <th>ARG</th>\n",
       "      <td>23</td>\n",
       "      <td>18</td>\n",
       "      <td>24</td>\n",
       "      <td>28</td>\n",
       "    </tr>\n",
       "    <tr>\n",
       "      <th>ARM</th>\n",
       "      <td>5</td>\n",
       "      <td>1</td>\n",
       "      <td>2</td>\n",
       "      <td>9</td>\n",
       "    </tr>\n",
       "    <tr>\n",
       "      <th>ANZ</th>\n",
       "      <td>2</td>\n",
       "      <td>3</td>\n",
       "      <td>4</td>\n",
       "      <td>5</td>\n",
       "    </tr>\n",
       "  </tbody>\n",
       "</table>\n",
       "</div>"
      ],
      "text/plain": [
       "      SummerGame  SummerGold  SummerSilver  SummerBronze\n",
       "Code                                                    \n",
       "AFG           13           0             0             2\n",
       "ALG           12           5             2             8\n",
       "ARG           23          18            24            28\n",
       "ARM            5           1             2             9\n",
       "ANZ            2           3             4             5"
      ]
     },
     "execution_count": 109,
     "metadata": {},
     "output_type": "execute_result"
    }
   ],
   "source": [
    "medals.filter(like='Summer').head(5)"
   ]
  },
  {
   "cell_type": "markdown",
   "id": "527238a6",
   "metadata": {},
   "source": [
    "# 8.แสดงข้อมูลเหรียญทองของโอลิมปิกฤดูร้อนและฤดูหนาวของประเทศไทย (THA) สิงคโปร์ (SIN) และมาเลเซีย (MAS) แสดงชื่อประเทศด้วย"
   ]
  },
  {
   "cell_type": "code",
   "execution_count": 110,
   "id": "fba7f9a8",
   "metadata": {},
   "outputs": [
    {
     "data": {
      "text/html": [
       "<div>\n",
       "<style scoped>\n",
       "    .dataframe tbody tr th:only-of-type {\n",
       "        vertical-align: middle;\n",
       "    }\n",
       "\n",
       "    .dataframe tbody tr th {\n",
       "        vertical-align: top;\n",
       "    }\n",
       "\n",
       "    .dataframe thead th {\n",
       "        text-align: right;\n",
       "    }\n",
       "</style>\n",
       "<table border=\"1\" class=\"dataframe\">\n",
       "  <thead>\n",
       "    <tr style=\"text-align: right;\">\n",
       "      <th></th>\n",
       "      <th>Country</th>\n",
       "      <th>SummerGold</th>\n",
       "      <th>WinterGold</th>\n",
       "    </tr>\n",
       "    <tr>\n",
       "      <th>Code</th>\n",
       "      <th></th>\n",
       "      <th></th>\n",
       "      <th></th>\n",
       "    </tr>\n",
       "  </thead>\n",
       "  <tbody>\n",
       "    <tr>\n",
       "      <th>THA</th>\n",
       "      <td>Thailand</td>\n",
       "      <td>7</td>\n",
       "      <td>0</td>\n",
       "    </tr>\n",
       "    <tr>\n",
       "      <th>SIN</th>\n",
       "      <td>Singapore</td>\n",
       "      <td>0</td>\n",
       "      <td>0</td>\n",
       "    </tr>\n",
       "    <tr>\n",
       "      <th>MAS</th>\n",
       "      <td>Malaysia</td>\n",
       "      <td>0</td>\n",
       "      <td>0</td>\n",
       "    </tr>\n",
       "  </tbody>\n",
       "</table>\n",
       "</div>"
      ],
      "text/plain": [
       "        Country  SummerGold  WinterGold\n",
       "Code                                   \n",
       "THA    Thailand           7           0\n",
       "SIN   Singapore           0           0\n",
       "MAS    Malaysia           0           0"
      ]
     },
     "execution_count": 110,
     "metadata": {},
     "output_type": "execute_result"
    }
   ],
   "source": [
    "medals.loc[['THA', 'SIN', 'MAS'], ['Country', 'SummerGold', 'WinterGold']]"
   ]
  },
  {
   "cell_type": "markdown",
   "id": "4d6affd5",
   "metadata": {},
   "source": [
    "# 9.แสดงข้อมูลเหรียญเงินและเหรียญทองแดงของโอลิมปิคฤดูร้อนของประเทศฝรั่งเศส (FRA) และสเปน (ESP) แสดงชื่อประเทศด้วย"
   ]
  },
  {
   "cell_type": "code",
   "execution_count": 111,
   "id": "95a83d57",
   "metadata": {},
   "outputs": [
    {
     "data": {
      "text/html": [
       "<div>\n",
       "<style scoped>\n",
       "    .dataframe tbody tr th:only-of-type {\n",
       "        vertical-align: middle;\n",
       "    }\n",
       "\n",
       "    .dataframe tbody tr th {\n",
       "        vertical-align: top;\n",
       "    }\n",
       "\n",
       "    .dataframe thead th {\n",
       "        text-align: right;\n",
       "    }\n",
       "</style>\n",
       "<table border=\"1\" class=\"dataframe\">\n",
       "  <thead>\n",
       "    <tr style=\"text-align: right;\">\n",
       "      <th></th>\n",
       "      <th>Country</th>\n",
       "      <th>SummerSilver</th>\n",
       "      <th>SummerBronze</th>\n",
       "    </tr>\n",
       "    <tr>\n",
       "      <th>Code</th>\n",
       "      <th></th>\n",
       "      <th></th>\n",
       "      <th></th>\n",
       "    </tr>\n",
       "  </thead>\n",
       "  <tbody>\n",
       "    <tr>\n",
       "      <th>FRA</th>\n",
       "      <td>France</td>\n",
       "      <td>223</td>\n",
       "      <td>246</td>\n",
       "    </tr>\n",
       "    <tr>\n",
       "      <th>ESP</th>\n",
       "      <td>Spain</td>\n",
       "      <td>59</td>\n",
       "      <td>35</td>\n",
       "    </tr>\n",
       "  </tbody>\n",
       "</table>\n",
       "</div>"
      ],
      "text/plain": [
       "     Country  SummerSilver  SummerBronze\n",
       "Code                                    \n",
       "FRA   France           223           246\n",
       "ESP    Spain            59            35"
      ]
     },
     "execution_count": 111,
     "metadata": {},
     "output_type": "execute_result"
    }
   ],
   "source": [
    "medals.loc[['FRA', 'ESP'], ['Country', 'SummerSilver', 'SummerBronze']]"
   ]
  },
  {
   "cell_type": "markdown",
   "id": "34bf3d77",
   "metadata": {},
   "source": [
    "# 10.แสดงประเทศที่เข้าร่วมโอลิมปิคฤดูร้อนมากกว่า 24 ครั้ง"
   ]
  },
  {
   "cell_type": "code",
   "execution_count": 112,
   "id": "fe34632a",
   "metadata": {},
   "outputs": [
    {
     "data": {
      "text/html": [
       "<div>\n",
       "<style scoped>\n",
       "    .dataframe tbody tr th:only-of-type {\n",
       "        vertical-align: middle;\n",
       "    }\n",
       "\n",
       "    .dataframe tbody tr th {\n",
       "        vertical-align: top;\n",
       "    }\n",
       "\n",
       "    .dataframe thead th {\n",
       "        text-align: right;\n",
       "    }\n",
       "</style>\n",
       "<table border=\"1\" class=\"dataframe\">\n",
       "  <thead>\n",
       "    <tr style=\"text-align: right;\">\n",
       "      <th></th>\n",
       "      <th>Country</th>\n",
       "      <th>SummerGame</th>\n",
       "      <th>SummerGold</th>\n",
       "      <th>SummerSilver</th>\n",
       "      <th>SummerBronze</th>\n",
       "      <th>WinterGame</th>\n",
       "      <th>WinterGold</th>\n",
       "      <th>WinterSilver</th>\n",
       "      <th>WinterBronze</th>\n",
       "    </tr>\n",
       "    <tr>\n",
       "      <th>Code</th>\n",
       "      <th></th>\n",
       "      <th></th>\n",
       "      <th></th>\n",
       "      <th></th>\n",
       "      <th></th>\n",
       "      <th></th>\n",
       "      <th></th>\n",
       "      <th></th>\n",
       "      <th></th>\n",
       "    </tr>\n",
       "  </thead>\n",
       "  <tbody>\n",
       "    <tr>\n",
       "      <th>AUS</th>\n",
       "      <td>Australia</td>\n",
       "      <td>25</td>\n",
       "      <td>139</td>\n",
       "      <td>152</td>\n",
       "      <td>177</td>\n",
       "      <td>18</td>\n",
       "      <td>5</td>\n",
       "      <td>3</td>\n",
       "      <td>4</td>\n",
       "    </tr>\n",
       "    <tr>\n",
       "      <th>AUT</th>\n",
       "      <td>Austria</td>\n",
       "      <td>26</td>\n",
       "      <td>18</td>\n",
       "      <td>33</td>\n",
       "      <td>35</td>\n",
       "      <td>22</td>\n",
       "      <td>59</td>\n",
       "      <td>78</td>\n",
       "      <td>81</td>\n",
       "    </tr>\n",
       "    <tr>\n",
       "      <th>BEL</th>\n",
       "      <td>Belgium</td>\n",
       "      <td>25</td>\n",
       "      <td>37</td>\n",
       "      <td>52</td>\n",
       "      <td>53</td>\n",
       "      <td>20</td>\n",
       "      <td>1</td>\n",
       "      <td>1</td>\n",
       "      <td>3</td>\n",
       "    </tr>\n",
       "    <tr>\n",
       "      <th>CAN</th>\n",
       "      <td>Canada</td>\n",
       "      <td>25</td>\n",
       "      <td>59</td>\n",
       "      <td>99</td>\n",
       "      <td>121</td>\n",
       "      <td>22</td>\n",
       "      <td>62</td>\n",
       "      <td>56</td>\n",
       "      <td>52</td>\n",
       "    </tr>\n",
       "    <tr>\n",
       "      <th>DEN</th>\n",
       "      <td>Denmark</td>\n",
       "      <td>26</td>\n",
       "      <td>43</td>\n",
       "      <td>68</td>\n",
       "      <td>68</td>\n",
       "      <td>13</td>\n",
       "      <td>0</td>\n",
       "      <td>1</td>\n",
       "      <td>0</td>\n",
       "    </tr>\n",
       "  </tbody>\n",
       "</table>\n",
       "</div>"
      ],
      "text/plain": [
       "        Country  SummerGame  SummerGold  SummerSilver  SummerBronze  \\\n",
       "Code                                                                  \n",
       "AUS   Australia          25         139           152           177   \n",
       "AUT     Austria          26          18            33            35   \n",
       "BEL     Belgium          25          37            52            53   \n",
       "CAN      Canada          25          59            99           121   \n",
       "DEN     Denmark          26          43            68            68   \n",
       "\n",
       "      WinterGame  WinterGold  WinterSilver  WinterBronze  \n",
       "Code                                                      \n",
       "AUS           18           5             3             4  \n",
       "AUT           22          59            78            81  \n",
       "BEL           20           1             1             3  \n",
       "CAN           22          62            56            52  \n",
       "DEN           13           0             1             0  "
      ]
     },
     "execution_count": 112,
     "metadata": {},
     "output_type": "execute_result"
    }
   ],
   "source": [
    "medals[medals['SummerGame'] > 24].head(5)"
   ]
  },
  {
   "cell_type": "markdown",
   "id": "443573a3",
   "metadata": {},
   "source": [
    "# 11.แสดงประเทศที่ได้เหรียญทองของโอลิมปิคฤดูร้อนมากกว่า 200 เหรียญ"
   ]
  },
  {
   "cell_type": "code",
   "execution_count": 113,
   "id": "7a9bdc86",
   "metadata": {},
   "outputs": [
    {
     "data": {
      "text/html": [
       "<div>\n",
       "<style scoped>\n",
       "    .dataframe tbody tr th:only-of-type {\n",
       "        vertical-align: middle;\n",
       "    }\n",
       "\n",
       "    .dataframe tbody tr th {\n",
       "        vertical-align: top;\n",
       "    }\n",
       "\n",
       "    .dataframe thead th {\n",
       "        text-align: right;\n",
       "    }\n",
       "</style>\n",
       "<table border=\"1\" class=\"dataframe\">\n",
       "  <thead>\n",
       "    <tr style=\"text-align: right;\">\n",
       "      <th></th>\n",
       "      <th>Country</th>\n",
       "      <th>SummerGame</th>\n",
       "      <th>SummerGold</th>\n",
       "      <th>SummerSilver</th>\n",
       "      <th>SummerBronze</th>\n",
       "      <th>WinterGame</th>\n",
       "      <th>WinterGold</th>\n",
       "      <th>WinterSilver</th>\n",
       "      <th>WinterBronze</th>\n",
       "    </tr>\n",
       "    <tr>\n",
       "      <th>Code</th>\n",
       "      <th></th>\n",
       "      <th></th>\n",
       "      <th></th>\n",
       "      <th></th>\n",
       "      <th></th>\n",
       "      <th></th>\n",
       "      <th></th>\n",
       "      <th></th>\n",
       "      <th></th>\n",
       "    </tr>\n",
       "  </thead>\n",
       "  <tbody>\n",
       "    <tr>\n",
       "      <th>CHN</th>\n",
       "      <td>China</td>\n",
       "      <td>9</td>\n",
       "      <td>201</td>\n",
       "      <td>146</td>\n",
       "      <td>126</td>\n",
       "      <td>10</td>\n",
       "      <td>12</td>\n",
       "      <td>22</td>\n",
       "      <td>19</td>\n",
       "    </tr>\n",
       "    <tr>\n",
       "      <th>FRA</th>\n",
       "      <td>France</td>\n",
       "      <td>27</td>\n",
       "      <td>202</td>\n",
       "      <td>223</td>\n",
       "      <td>246</td>\n",
       "      <td>22</td>\n",
       "      <td>31</td>\n",
       "      <td>31</td>\n",
       "      <td>47</td>\n",
       "    </tr>\n",
       "    <tr>\n",
       "      <th>GBR</th>\n",
       "      <td>Great Britain</td>\n",
       "      <td>27</td>\n",
       "      <td>236</td>\n",
       "      <td>272</td>\n",
       "      <td>272</td>\n",
       "      <td>22</td>\n",
       "      <td>10</td>\n",
       "      <td>4</td>\n",
       "      <td>12</td>\n",
       "    </tr>\n",
       "    <tr>\n",
       "      <th>URS</th>\n",
       "      <td>Soviet Union</td>\n",
       "      <td>9</td>\n",
       "      <td>395</td>\n",
       "      <td>319</td>\n",
       "      <td>296</td>\n",
       "      <td>9</td>\n",
       "      <td>78</td>\n",
       "      <td>57</td>\n",
       "      <td>59</td>\n",
       "    </tr>\n",
       "    <tr>\n",
       "      <th>USA</th>\n",
       "      <td>United States</td>\n",
       "      <td>26</td>\n",
       "      <td>976</td>\n",
       "      <td>757</td>\n",
       "      <td>666</td>\n",
       "      <td>22</td>\n",
       "      <td>96</td>\n",
       "      <td>102</td>\n",
       "      <td>84</td>\n",
       "    </tr>\n",
       "  </tbody>\n",
       "</table>\n",
       "</div>"
      ],
      "text/plain": [
       "            Country  SummerGame  SummerGold  SummerSilver  SummerBronze  \\\n",
       "Code                                                                      \n",
       "CHN           China           9         201           146           126   \n",
       "FRA          France          27         202           223           246   \n",
       "GBR   Great Britain          27         236           272           272   \n",
       "URS    Soviet Union           9         395           319           296   \n",
       "USA   United States          26         976           757           666   \n",
       "\n",
       "      WinterGame  WinterGold  WinterSilver  WinterBronze  \n",
       "Code                                                      \n",
       "CHN           10          12            22            19  \n",
       "FRA           22          31            31            47  \n",
       "GBR           22          10             4            12  \n",
       "URS            9          78            57            59  \n",
       "USA           22          96           102            84  "
      ]
     },
     "execution_count": 113,
     "metadata": {},
     "output_type": "execute_result"
    }
   ],
   "source": [
    "medals[medals['SummerGold'] > 200]"
   ]
  },
  {
   "cell_type": "markdown",
   "id": "a9fbee65",
   "metadata": {},
   "source": [
    "# 12.แสดงประเทศที่ได้เหรียญทองของโอลิมปิคฤดูร้อนมากกว่า 200 เหรียญและเป็นเหรียญเงินมากกว่า 200 เหรียญ"
   ]
  },
  {
   "cell_type": "code",
   "execution_count": 114,
   "id": "437deddf",
   "metadata": {},
   "outputs": [
    {
     "data": {
      "text/html": [
       "<div>\n",
       "<style scoped>\n",
       "    .dataframe tbody tr th:only-of-type {\n",
       "        vertical-align: middle;\n",
       "    }\n",
       "\n",
       "    .dataframe tbody tr th {\n",
       "        vertical-align: top;\n",
       "    }\n",
       "\n",
       "    .dataframe thead th {\n",
       "        text-align: right;\n",
       "    }\n",
       "</style>\n",
       "<table border=\"1\" class=\"dataframe\">\n",
       "  <thead>\n",
       "    <tr style=\"text-align: right;\">\n",
       "      <th></th>\n",
       "      <th>Country</th>\n",
       "      <th>SummerGame</th>\n",
       "      <th>SummerGold</th>\n",
       "      <th>SummerSilver</th>\n",
       "      <th>SummerBronze</th>\n",
       "      <th>WinterGame</th>\n",
       "      <th>WinterGold</th>\n",
       "      <th>WinterSilver</th>\n",
       "      <th>WinterBronze</th>\n",
       "    </tr>\n",
       "    <tr>\n",
       "      <th>Code</th>\n",
       "      <th></th>\n",
       "      <th></th>\n",
       "      <th></th>\n",
       "      <th></th>\n",
       "      <th></th>\n",
       "      <th></th>\n",
       "      <th></th>\n",
       "      <th></th>\n",
       "      <th></th>\n",
       "    </tr>\n",
       "  </thead>\n",
       "  <tbody>\n",
       "    <tr>\n",
       "      <th>FRA</th>\n",
       "      <td>France</td>\n",
       "      <td>27</td>\n",
       "      <td>202</td>\n",
       "      <td>223</td>\n",
       "      <td>246</td>\n",
       "      <td>22</td>\n",
       "      <td>31</td>\n",
       "      <td>31</td>\n",
       "      <td>47</td>\n",
       "    </tr>\n",
       "    <tr>\n",
       "      <th>GBR</th>\n",
       "      <td>Great Britain</td>\n",
       "      <td>27</td>\n",
       "      <td>236</td>\n",
       "      <td>272</td>\n",
       "      <td>272</td>\n",
       "      <td>22</td>\n",
       "      <td>10</td>\n",
       "      <td>4</td>\n",
       "      <td>12</td>\n",
       "    </tr>\n",
       "    <tr>\n",
       "      <th>URS</th>\n",
       "      <td>Soviet Union</td>\n",
       "      <td>9</td>\n",
       "      <td>395</td>\n",
       "      <td>319</td>\n",
       "      <td>296</td>\n",
       "      <td>9</td>\n",
       "      <td>78</td>\n",
       "      <td>57</td>\n",
       "      <td>59</td>\n",
       "    </tr>\n",
       "    <tr>\n",
       "      <th>USA</th>\n",
       "      <td>United States</td>\n",
       "      <td>26</td>\n",
       "      <td>976</td>\n",
       "      <td>757</td>\n",
       "      <td>666</td>\n",
       "      <td>22</td>\n",
       "      <td>96</td>\n",
       "      <td>102</td>\n",
       "      <td>84</td>\n",
       "    </tr>\n",
       "  </tbody>\n",
       "</table>\n",
       "</div>"
      ],
      "text/plain": [
       "            Country  SummerGame  SummerGold  SummerSilver  SummerBronze  \\\n",
       "Code                                                                      \n",
       "FRA          France          27         202           223           246   \n",
       "GBR   Great Britain          27         236           272           272   \n",
       "URS    Soviet Union           9         395           319           296   \n",
       "USA   United States          26         976           757           666   \n",
       "\n",
       "      WinterGame  WinterGold  WinterSilver  WinterBronze  \n",
       "Code                                                      \n",
       "FRA           22          31            31            47  \n",
       "GBR           22          10             4            12  \n",
       "URS            9          78            57            59  \n",
       "USA           22          96           102            84  "
      ]
     },
     "execution_count": 114,
     "metadata": {},
     "output_type": "execute_result"
    }
   ],
   "source": [
    "medals[(medals['SummerGold'] > 200) & (medals['SummerSilver'] > 200)]"
   ]
  },
  {
   "cell_type": "markdown",
   "id": "60130209",
   "metadata": {},
   "source": [
    "# 13.แสดงประเทศที่ได้เหรียญทองของโอลิมปิคฤดูหนาวมากกว่าเหรียญเงินของโอลิมปิคฤดูหนาว\n"
   ]
  },
  {
   "cell_type": "code",
   "execution_count": 115,
   "id": "a7d4a5a3",
   "metadata": {},
   "outputs": [
    {
     "data": {
      "text/html": [
       "<div>\n",
       "<style scoped>\n",
       "    .dataframe tbody tr th:only-of-type {\n",
       "        vertical-align: middle;\n",
       "    }\n",
       "\n",
       "    .dataframe tbody tr th {\n",
       "        vertical-align: top;\n",
       "    }\n",
       "\n",
       "    .dataframe thead th {\n",
       "        text-align: right;\n",
       "    }\n",
       "</style>\n",
       "<table border=\"1\" class=\"dataframe\">\n",
       "  <thead>\n",
       "    <tr style=\"text-align: right;\">\n",
       "      <th></th>\n",
       "      <th>Country</th>\n",
       "      <th>SummerGame</th>\n",
       "      <th>SummerGold</th>\n",
       "      <th>SummerSilver</th>\n",
       "      <th>SummerBronze</th>\n",
       "      <th>WinterGame</th>\n",
       "      <th>WinterGold</th>\n",
       "      <th>WinterSilver</th>\n",
       "      <th>WinterBronze</th>\n",
       "    </tr>\n",
       "    <tr>\n",
       "      <th>Code</th>\n",
       "      <th></th>\n",
       "      <th></th>\n",
       "      <th></th>\n",
       "      <th></th>\n",
       "      <th></th>\n",
       "      <th></th>\n",
       "      <th></th>\n",
       "      <th></th>\n",
       "      <th></th>\n",
       "    </tr>\n",
       "  </thead>\n",
       "  <tbody>\n",
       "    <tr>\n",
       "      <th>AUS</th>\n",
       "      <td>Australia</td>\n",
       "      <td>25</td>\n",
       "      <td>139</td>\n",
       "      <td>152</td>\n",
       "      <td>177</td>\n",
       "      <td>18</td>\n",
       "      <td>5</td>\n",
       "      <td>3</td>\n",
       "      <td>4</td>\n",
       "    </tr>\n",
       "    <tr>\n",
       "      <th>BLR</th>\n",
       "      <td>Belarus</td>\n",
       "      <td>5</td>\n",
       "      <td>12</td>\n",
       "      <td>24</td>\n",
       "      <td>39</td>\n",
       "      <td>6</td>\n",
       "      <td>6</td>\n",
       "      <td>4</td>\n",
       "      <td>5</td>\n",
       "    </tr>\n",
       "    <tr>\n",
       "      <th>CAN</th>\n",
       "      <td>Canada</td>\n",
       "      <td>25</td>\n",
       "      <td>59</td>\n",
       "      <td>99</td>\n",
       "      <td>121</td>\n",
       "      <td>22</td>\n",
       "      <td>62</td>\n",
       "      <td>56</td>\n",
       "      <td>52</td>\n",
       "    </tr>\n",
       "    <tr>\n",
       "      <th>EST</th>\n",
       "      <td>Estonia</td>\n",
       "      <td>11</td>\n",
       "      <td>9</td>\n",
       "      <td>9</td>\n",
       "      <td>15</td>\n",
       "      <td>9</td>\n",
       "      <td>4</td>\n",
       "      <td>2</td>\n",
       "      <td>1</td>\n",
       "    </tr>\n",
       "    <tr>\n",
       "      <th>EUA</th>\n",
       "      <td>United Team of Germany</td>\n",
       "      <td>3</td>\n",
       "      <td>28</td>\n",
       "      <td>54</td>\n",
       "      <td>36</td>\n",
       "      <td>3</td>\n",
       "      <td>8</td>\n",
       "      <td>6</td>\n",
       "      <td>5</td>\n",
       "    </tr>\n",
       "    <tr>\n",
       "      <th>GDR</th>\n",
       "      <td>East Germany</td>\n",
       "      <td>5</td>\n",
       "      <td>153</td>\n",
       "      <td>129</td>\n",
       "      <td>127</td>\n",
       "      <td>6</td>\n",
       "      <td>39</td>\n",
       "      <td>36</td>\n",
       "      <td>35</td>\n",
       "    </tr>\n",
       "  </tbody>\n",
       "</table>\n",
       "</div>"
      ],
      "text/plain": [
       "                     Country  SummerGame  SummerGold  SummerSilver  \\\n",
       "Code                                                                 \n",
       "AUS                Australia          25         139           152   \n",
       "BLR                  Belarus           5          12            24   \n",
       "CAN                   Canada          25          59            99   \n",
       "EST                  Estonia          11           9             9   \n",
       "EUA   United Team of Germany           3          28            54   \n",
       "GDR             East Germany           5         153           129   \n",
       "\n",
       "      SummerBronze  WinterGame  WinterGold  WinterSilver  WinterBronze  \n",
       "Code                                                                    \n",
       "AUS            177          18           5             3             4  \n",
       "BLR             39           6           6             4             5  \n",
       "CAN            121          22          62            56            52  \n",
       "EST             15           9           4             2             1  \n",
       "EUA             36           3           8             6             5  \n",
       "GDR            127           6          39            36            35  "
      ]
     },
     "execution_count": 115,
     "metadata": {},
     "output_type": "execute_result"
    }
   ],
   "source": [
    "medals[medals['WinterGold'] > medals['WinterSilver']].head(6)"
   ]
  },
  {
   "cell_type": "markdown",
   "id": "66fc42ea",
   "metadata": {},
   "source": [
    "# 14.แสดงประเทศที่ได้เหรียญทองของโอลิมปิคฤดูหนาวมากกว่าเหรียญเงินและเหรียญทองแดงของโอลิมปิคฤดูหนาวรวมกัน"
   ]
  },
  {
   "cell_type": "code",
   "execution_count": 116,
   "id": "9cca3cfa",
   "metadata": {},
   "outputs": [
    {
     "data": {
      "text/html": [
       "<div>\n",
       "<style scoped>\n",
       "    .dataframe tbody tr th:only-of-type {\n",
       "        vertical-align: middle;\n",
       "    }\n",
       "\n",
       "    .dataframe tbody tr th {\n",
       "        vertical-align: top;\n",
       "    }\n",
       "\n",
       "    .dataframe thead th {\n",
       "        text-align: right;\n",
       "    }\n",
       "</style>\n",
       "<table border=\"1\" class=\"dataframe\">\n",
       "  <thead>\n",
       "    <tr style=\"text-align: right;\">\n",
       "      <th></th>\n",
       "      <th>Country</th>\n",
       "      <th>SummerGame</th>\n",
       "      <th>SummerGold</th>\n",
       "      <th>SummerSilver</th>\n",
       "      <th>SummerBronze</th>\n",
       "      <th>WinterGame</th>\n",
       "      <th>WinterGold</th>\n",
       "      <th>WinterSilver</th>\n",
       "      <th>WinterBronze</th>\n",
       "    </tr>\n",
       "    <tr>\n",
       "      <th>Code</th>\n",
       "      <th></th>\n",
       "      <th></th>\n",
       "      <th></th>\n",
       "      <th></th>\n",
       "      <th></th>\n",
       "      <th></th>\n",
       "      <th></th>\n",
       "      <th></th>\n",
       "      <th></th>\n",
       "    </tr>\n",
       "  </thead>\n",
       "  <tbody>\n",
       "    <tr>\n",
       "      <th>EST</th>\n",
       "      <td>Estonia</td>\n",
       "      <td>11</td>\n",
       "      <td>9</td>\n",
       "      <td>9</td>\n",
       "      <td>15</td>\n",
       "      <td>9</td>\n",
       "      <td>4</td>\n",
       "      <td>2</td>\n",
       "      <td>1</td>\n",
       "    </tr>\n",
       "    <tr>\n",
       "      <th>UZB</th>\n",
       "      <td>Uzbekistan</td>\n",
       "      <td>5</td>\n",
       "      <td>5</td>\n",
       "      <td>5</td>\n",
       "      <td>10</td>\n",
       "      <td>6</td>\n",
       "      <td>1</td>\n",
       "      <td>0</td>\n",
       "      <td>0</td>\n",
       "    </tr>\n",
       "  </tbody>\n",
       "</table>\n",
       "</div>"
      ],
      "text/plain": [
       "         Country  SummerGame  SummerGold  SummerSilver  SummerBronze  \\\n",
       "Code                                                                   \n",
       "EST      Estonia          11           9             9            15   \n",
       "UZB   Uzbekistan           5           5             5            10   \n",
       "\n",
       "      WinterGame  WinterGold  WinterSilver  WinterBronze  \n",
       "Code                                                      \n",
       "EST            9           4             2             1  \n",
       "UZB            6           1             0             0  "
      ]
     },
     "execution_count": 116,
     "metadata": {},
     "output_type": "execute_result"
    }
   ],
   "source": [
    "medals[medals['WinterGold'] > (medals['WinterSilver'] + medals['WinterBronze'])]"
   ]
  },
  {
   "cell_type": "markdown",
   "id": "84333a1b",
   "metadata": {},
   "source": [
    "# 15.แสดงข้อมูลโอลิมปิกฤดูร้อนเท่านั้นของประเทศที่ชื่อขึ้นต้นด้วย 'A' ทั้งหมด"
   ]
  },
  {
   "cell_type": "code",
   "execution_count": 117,
   "id": "ca4e00a0",
   "metadata": {},
   "outputs": [
    {
     "data": {
      "text/html": [
       "<div>\n",
       "<style scoped>\n",
       "    .dataframe tbody tr th:only-of-type {\n",
       "        vertical-align: middle;\n",
       "    }\n",
       "\n",
       "    .dataframe tbody tr th {\n",
       "        vertical-align: top;\n",
       "    }\n",
       "\n",
       "    .dataframe thead th {\n",
       "        text-align: right;\n",
       "    }\n",
       "</style>\n",
       "<table border=\"1\" class=\"dataframe\">\n",
       "  <thead>\n",
       "    <tr style=\"text-align: right;\">\n",
       "      <th></th>\n",
       "      <th>SummerGame</th>\n",
       "      <th>SummerGold</th>\n",
       "      <th>SummerSilver</th>\n",
       "      <th>SummerBronze</th>\n",
       "    </tr>\n",
       "    <tr>\n",
       "      <th>Code</th>\n",
       "      <th></th>\n",
       "      <th></th>\n",
       "      <th></th>\n",
       "      <th></th>\n",
       "    </tr>\n",
       "  </thead>\n",
       "  <tbody>\n",
       "    <tr>\n",
       "      <th>AFG</th>\n",
       "      <td>13</td>\n",
       "      <td>0</td>\n",
       "      <td>0</td>\n",
       "      <td>2</td>\n",
       "    </tr>\n",
       "    <tr>\n",
       "      <th>ALG</th>\n",
       "      <td>12</td>\n",
       "      <td>5</td>\n",
       "      <td>2</td>\n",
       "      <td>8</td>\n",
       "    </tr>\n",
       "    <tr>\n",
       "      <th>ARG</th>\n",
       "      <td>23</td>\n",
       "      <td>18</td>\n",
       "      <td>24</td>\n",
       "      <td>28</td>\n",
       "    </tr>\n",
       "    <tr>\n",
       "      <th>ARM</th>\n",
       "      <td>5</td>\n",
       "      <td>1</td>\n",
       "      <td>2</td>\n",
       "      <td>9</td>\n",
       "    </tr>\n",
       "    <tr>\n",
       "      <th>ANZ</th>\n",
       "      <td>2</td>\n",
       "      <td>3</td>\n",
       "      <td>4</td>\n",
       "      <td>5</td>\n",
       "    </tr>\n",
       "  </tbody>\n",
       "</table>\n",
       "</div>"
      ],
      "text/plain": [
       "      SummerGame  SummerGold  SummerSilver  SummerBronze\n",
       "Code                                                    \n",
       "AFG           13           0             0             2\n",
       "ALG           12           5             2             8\n",
       "ARG           23          18            24            28\n",
       "ARM            5           1             2             9\n",
       "ANZ            2           3             4             5"
      ]
     },
     "execution_count": 117,
     "metadata": {},
     "output_type": "execute_result"
    }
   ],
   "source": [
    "medals[medals['Country'].str.startswith('A')].filter(like=\"Summer\").head(5)"
   ]
  },
  {
   "cell_type": "markdown",
   "id": "93a060cd",
   "metadata": {},
   "source": [
    "# 16.ประเทศที่เข้าร่วมจำนวนโอลิมปิกฤดูร้อนมากที่สุดคือกี่ครั้ง"
   ]
  },
  {
   "cell_type": "code",
   "execution_count": 118,
   "id": "d0382c4c",
   "metadata": {},
   "outputs": [
    {
     "data": {
      "text/plain": [
       "27"
      ]
     },
     "execution_count": 118,
     "metadata": {},
     "output_type": "execute_result"
    }
   ],
   "source": [
    "medals['SummerGame'].max()"
   ]
  },
  {
   "cell_type": "markdown",
   "id": "2a8e50bc",
   "metadata": {},
   "source": [
    "# 17.แสดงชื่อประเทศที่เข้าร่วมโอลิมปิกฤดูร้อนมากที่สุด (ระวัง!! อาจมีหลายประเทศ)"
   ]
  },
  {
   "cell_type": "code",
   "execution_count": 119,
   "id": "6c0a655b",
   "metadata": {},
   "outputs": [
    {
     "data": {
      "text/plain": [
       "Code\n",
       "FRA           France\n",
       "GBR    Great Britain\n",
       "GRE           Greece\n",
       "SUI      Switzerland\n",
       "Name: Country, dtype: object"
      ]
     },
     "execution_count": 119,
     "metadata": {},
     "output_type": "execute_result"
    }
   ],
   "source": [
    "medals[medals['SummerGame'] == medals['SummerGame'].max()]['Country']"
   ]
  },
  {
   "cell_type": "markdown",
   "id": "49e64d76",
   "metadata": {},
   "source": [
    "# 18.จำนวนประเทศที่เข้าร่วมโอลิมปิกฤดูหนาวบ่อยที่สุดมีกี่ประเทศ"
   ]
  },
  {
   "cell_type": "code",
   "execution_count": 120,
   "id": "38a65bd6",
   "metadata": {},
   "outputs": [
    {
     "data": {
      "text/plain": [
       "12"
      ]
     },
     "execution_count": 120,
     "metadata": {},
     "output_type": "execute_result"
    }
   ],
   "source": [
    "medals[medals['WinterGame'] == medals['WinterGame'].max()]['Country'].count()"
   ]
  },
  {
   "cell_type": "markdown",
   "id": "a0701626",
   "metadata": {},
   "source": [
    "# 19.จำนวนเหรียญทั้งหมดที่แจกไปในโอลิมปิกฤดูหนาวรวมแล้วมีกี่เหรียญ"
   ]
  },
  {
   "cell_type": "code",
   "execution_count": 121,
   "id": "495dfda1",
   "metadata": {},
   "outputs": [
    {
     "data": {
      "text/plain": [
       "2865"
      ]
     },
     "execution_count": 121,
     "metadata": {},
     "output_type": "execute_result"
    }
   ],
   "source": [
    "medals['WinterTotal'] = medals['WinterGold'] + medals['WinterSilver'] + medals['WinterBronze']\n",
    "medals['WinterTotal'].sum()"
   ]
  },
  {
   "cell_type": "markdown",
   "id": "d328c6f0",
   "metadata": {},
   "source": [
    "# 20.หาค่าเฉลี่ยของจำนวนเหรียญทองฤดูหนาวและฤดูร้อนต่อประเทศ"
   ]
  },
  {
   "cell_type": "code",
   "execution_count": 122,
   "id": "a5fb619c",
   "metadata": {},
   "outputs": [
    {
     "data": {
      "text/html": [
       "<div>\n",
       "<style scoped>\n",
       "    .dataframe tbody tr th:only-of-type {\n",
       "        vertical-align: middle;\n",
       "    }\n",
       "\n",
       "    .dataframe tbody tr th {\n",
       "        vertical-align: top;\n",
       "    }\n",
       "\n",
       "    .dataframe thead th {\n",
       "        text-align: right;\n",
       "    }\n",
       "</style>\n",
       "<table border=\"1\" class=\"dataframe\">\n",
       "  <thead>\n",
       "    <tr style=\"text-align: right;\">\n",
       "      <th></th>\n",
       "      <th>Country</th>\n",
       "      <th>AvgWinterGold</th>\n",
       "      <th>AvgSummerGold</th>\n",
       "    </tr>\n",
       "    <tr>\n",
       "      <th>Code</th>\n",
       "      <th></th>\n",
       "      <th></th>\n",
       "      <th></th>\n",
       "    </tr>\n",
       "  </thead>\n",
       "  <tbody>\n",
       "    <tr>\n",
       "      <th>AFG</th>\n",
       "      <td>Afghanistan</td>\n",
       "      <td>0.0</td>\n",
       "      <td>0.000000</td>\n",
       "    </tr>\n",
       "    <tr>\n",
       "      <th>ALG</th>\n",
       "      <td>Algeria</td>\n",
       "      <td>0.0</td>\n",
       "      <td>0.001040</td>\n",
       "    </tr>\n",
       "    <tr>\n",
       "      <th>ARG</th>\n",
       "      <td>Argentina</td>\n",
       "      <td>0.0</td>\n",
       "      <td>0.003743</td>\n",
       "    </tr>\n",
       "    <tr>\n",
       "      <th>ARM</th>\n",
       "      <td>Armenia</td>\n",
       "      <td>0.0</td>\n",
       "      <td>0.000208</td>\n",
       "    </tr>\n",
       "    <tr>\n",
       "      <th>ANZ</th>\n",
       "      <td>Australasia</td>\n",
       "      <td>0.0</td>\n",
       "      <td>0.000624</td>\n",
       "    </tr>\n",
       "  </tbody>\n",
       "</table>\n",
       "</div>"
      ],
      "text/plain": [
       "          Country  AvgWinterGold  AvgSummerGold\n",
       "Code                                           \n",
       "AFG   Afghanistan            0.0       0.000000\n",
       "ALG       Algeria            0.0       0.001040\n",
       "ARG     Argentina            0.0       0.003743\n",
       "ARM       Armenia            0.0       0.000208\n",
       "ANZ   Australasia            0.0       0.000624"
      ]
     },
     "execution_count": 122,
     "metadata": {},
     "output_type": "execute_result"
    }
   ],
   "source": [
    "medals['AvgSummerGold'] = medals['SummerGold'] / medals['SummerGold'].sum()\n",
    "medals['AvgWinterGold'] = medals['WinterGold'] / medals['WinterGold'].sum()\n",
    "medals.filter(['Country', 'AvgWinterGold', 'AvgSummerGold']).head(5)"
   ]
  },
  {
   "cell_type": "markdown",
   "id": "4ff19e5d",
   "metadata": {},
   "source": [
    "# 21.แสดงจำนวนเหรียญทั้งหมด(รวมฤดูร้อนและฤดูหนาว)ที่แต่ละประเทศได้"
   ]
  },
  {
   "cell_type": "code",
   "execution_count": 123,
   "id": "62dca5c9",
   "metadata": {},
   "outputs": [],
   "source": [
    "medals['SummerTotal'] = medals['SummerGold'] + medals['SummerSilver'] + medals['SummerBronze']"
   ]
  },
  {
   "cell_type": "code",
   "execution_count": 124,
   "id": "47dfd613",
   "metadata": {},
   "outputs": [
    {
     "data": {
      "text/html": [
       "<div>\n",
       "<style scoped>\n",
       "    .dataframe tbody tr th:only-of-type {\n",
       "        vertical-align: middle;\n",
       "    }\n",
       "\n",
       "    .dataframe tbody tr th {\n",
       "        vertical-align: top;\n",
       "    }\n",
       "\n",
       "    .dataframe thead th {\n",
       "        text-align: right;\n",
       "    }\n",
       "</style>\n",
       "<table border=\"1\" class=\"dataframe\">\n",
       "  <thead>\n",
       "    <tr style=\"text-align: right;\">\n",
       "      <th></th>\n",
       "      <th>Country</th>\n",
       "      <th>Total</th>\n",
       "    </tr>\n",
       "    <tr>\n",
       "      <th>Code</th>\n",
       "      <th></th>\n",
       "      <th></th>\n",
       "    </tr>\n",
       "  </thead>\n",
       "  <tbody>\n",
       "    <tr>\n",
       "      <th>AFG</th>\n",
       "      <td>Afghanistan</td>\n",
       "      <td>2</td>\n",
       "    </tr>\n",
       "    <tr>\n",
       "      <th>ALG</th>\n",
       "      <td>Algeria</td>\n",
       "      <td>15</td>\n",
       "    </tr>\n",
       "    <tr>\n",
       "      <th>ARG</th>\n",
       "      <td>Argentina</td>\n",
       "      <td>70</td>\n",
       "    </tr>\n",
       "    <tr>\n",
       "      <th>ARM</th>\n",
       "      <td>Armenia</td>\n",
       "      <td>12</td>\n",
       "    </tr>\n",
       "    <tr>\n",
       "      <th>ANZ</th>\n",
       "      <td>Australasia</td>\n",
       "      <td>12</td>\n",
       "    </tr>\n",
       "  </tbody>\n",
       "</table>\n",
       "</div>"
      ],
      "text/plain": [
       "          Country  Total\n",
       "Code                    \n",
       "AFG   Afghanistan      2\n",
       "ALG       Algeria     15\n",
       "ARG     Argentina     70\n",
       "ARM       Armenia     12\n",
       "ANZ   Australasia     12"
      ]
     },
     "execution_count": 124,
     "metadata": {},
     "output_type": "execute_result"
    }
   ],
   "source": [
    "medals['Total'] = medals['WinterTotal'] + medals['SummerTotal']\n",
    "medals.filter(['Country', 'Total']).head(5)"
   ]
  },
  {
   "cell_type": "markdown",
   "id": "6a88b85c",
   "metadata": {},
   "source": [
    "# 22.แสดงประเทศที่ได้เหรียญรวมทุกประเภทของโอลิมปิกฤดูหนาวมากกว่าเหรียญรวมโอลิมปิกฤดูร้อนให้คอลัมน์ของตารางนี้แสดงชื่อประเทศเหรียญรวมฤดูร้อนเหรียญรวมฤดูหนาว"
   ]
  },
  {
   "cell_type": "code",
   "execution_count": 125,
   "id": "ee4378b9",
   "metadata": {},
   "outputs": [
    {
     "data": {
      "text/html": [
       "<div>\n",
       "<style scoped>\n",
       "    .dataframe tbody tr th:only-of-type {\n",
       "        vertical-align: middle;\n",
       "    }\n",
       "\n",
       "    .dataframe tbody tr th {\n",
       "        vertical-align: top;\n",
       "    }\n",
       "\n",
       "    .dataframe thead th {\n",
       "        text-align: right;\n",
       "    }\n",
       "</style>\n",
       "<table border=\"1\" class=\"dataframe\">\n",
       "  <thead>\n",
       "    <tr style=\"text-align: right;\">\n",
       "      <th></th>\n",
       "      <th>Country</th>\n",
       "      <th>SummerTotal</th>\n",
       "      <th>WinterTotal</th>\n",
       "    </tr>\n",
       "    <tr>\n",
       "      <th>Code</th>\n",
       "      <th></th>\n",
       "      <th></th>\n",
       "      <th></th>\n",
       "    </tr>\n",
       "  </thead>\n",
       "  <tbody>\n",
       "    <tr>\n",
       "      <th>AUT</th>\n",
       "      <td>Austria</td>\n",
       "      <td>86</td>\n",
       "      <td>218</td>\n",
       "    </tr>\n",
       "    <tr>\n",
       "      <th>LIE</th>\n",
       "      <td>Liechtenstein</td>\n",
       "      <td>0</td>\n",
       "      <td>9</td>\n",
       "    </tr>\n",
       "    <tr>\n",
       "      <th>NOR</th>\n",
       "      <td>Norway</td>\n",
       "      <td>148</td>\n",
       "      <td>329</td>\n",
       "    </tr>\n",
       "  </tbody>\n",
       "</table>\n",
       "</div>"
      ],
      "text/plain": [
       "            Country  SummerTotal  WinterTotal\n",
       "Code                                         \n",
       "AUT         Austria           86          218\n",
       "LIE   Liechtenstein            0            9\n",
       "NOR          Norway          148          329"
      ]
     },
     "execution_count": 125,
     "metadata": {},
     "output_type": "execute_result"
    }
   ],
   "source": [
    "medals[medals['WinterTotal'] > medals['SummerTotal']].filter(['Country', 'SummerTotal', 'WinterTotal'])"
   ]
  },
  {
   "cell_type": "markdown",
   "id": "bcdfa244",
   "metadata": {},
   "source": [
    "# 23.แสดงประเทศที่ไม่เคยได้เหรียญใดของโอลิมปิกฤดูร้อนแต่ได้เหรียญใดของฤดูหนาวหรือได้แต่เหรียญฤดูร้อนไม่เคยได้ฤดูหนาว"
   ]
  },
  {
   "cell_type": "code",
   "execution_count": 126,
   "id": "7c64a2df",
   "metadata": {},
   "outputs": [
    {
     "data": {
      "text/html": [
       "<div>\n",
       "<style scoped>\n",
       "    .dataframe tbody tr th:only-of-type {\n",
       "        vertical-align: middle;\n",
       "    }\n",
       "\n",
       "    .dataframe tbody tr th {\n",
       "        vertical-align: top;\n",
       "    }\n",
       "\n",
       "    .dataframe thead th {\n",
       "        text-align: right;\n",
       "    }\n",
       "</style>\n",
       "<table border=\"1\" class=\"dataframe\">\n",
       "  <thead>\n",
       "    <tr style=\"text-align: right;\">\n",
       "      <th></th>\n",
       "      <th>Country</th>\n",
       "      <th>WinterTotal</th>\n",
       "      <th>SummerTotal</th>\n",
       "    </tr>\n",
       "    <tr>\n",
       "      <th>Code</th>\n",
       "      <th></th>\n",
       "      <th></th>\n",
       "      <th></th>\n",
       "    </tr>\n",
       "  </thead>\n",
       "  <tbody>\n",
       "    <tr>\n",
       "      <th>AFG</th>\n",
       "      <td>Afghanistan</td>\n",
       "      <td>0</td>\n",
       "      <td>2</td>\n",
       "    </tr>\n",
       "    <tr>\n",
       "      <th>ALG</th>\n",
       "      <td>Algeria</td>\n",
       "      <td>0</td>\n",
       "      <td>15</td>\n",
       "    </tr>\n",
       "    <tr>\n",
       "      <th>ARG</th>\n",
       "      <td>Argentina</td>\n",
       "      <td>0</td>\n",
       "      <td>70</td>\n",
       "    </tr>\n",
       "    <tr>\n",
       "      <th>ARM</th>\n",
       "      <td>Armenia</td>\n",
       "      <td>0</td>\n",
       "      <td>12</td>\n",
       "    </tr>\n",
       "    <tr>\n",
       "      <th>ANZ</th>\n",
       "      <td>Australasia</td>\n",
       "      <td>0</td>\n",
       "      <td>12</td>\n",
       "    </tr>\n",
       "  </tbody>\n",
       "</table>\n",
       "</div>"
      ],
      "text/plain": [
       "          Country  WinterTotal  SummerTotal\n",
       "Code                                       \n",
       "AFG   Afghanistan            0            2\n",
       "ALG       Algeria            0           15\n",
       "ARG     Argentina            0           70\n",
       "ARM       Armenia            0           12\n",
       "ANZ   Australasia            0           12"
      ]
     },
     "execution_count": 126,
     "metadata": {},
     "output_type": "execute_result"
    }
   ],
   "source": [
    "medals[(medals['WinterTotal'] > 0) ^ (medals['SummerTotal'] > 0)].filter(['Country', 'WinterTotal', 'SummerTotal']).head(5)"
   ]
  },
  {
   "cell_type": "markdown",
   "id": "4ab6bd62",
   "metadata": {},
   "source": [
    "# 24.แสดงประเทศเรียงลำดับตามเหรียญทองฤดูร้อนจากน้อยไปมาก"
   ]
  },
  {
   "cell_type": "code",
   "execution_count": 127,
   "id": "d759a460",
   "metadata": {},
   "outputs": [
    {
     "data": {
      "text/html": [
       "<div>\n",
       "<style scoped>\n",
       "    .dataframe tbody tr th:only-of-type {\n",
       "        vertical-align: middle;\n",
       "    }\n",
       "\n",
       "    .dataframe tbody tr th {\n",
       "        vertical-align: top;\n",
       "    }\n",
       "\n",
       "    .dataframe thead th {\n",
       "        text-align: right;\n",
       "    }\n",
       "</style>\n",
       "<table border=\"1\" class=\"dataframe\">\n",
       "  <thead>\n",
       "    <tr style=\"text-align: right;\">\n",
       "      <th></th>\n",
       "      <th>Country</th>\n",
       "      <th>SummerGold</th>\n",
       "    </tr>\n",
       "    <tr>\n",
       "      <th>Code</th>\n",
       "      <th></th>\n",
       "      <th></th>\n",
       "    </tr>\n",
       "  </thead>\n",
       "  <tbody>\n",
       "    <tr>\n",
       "      <th>AFG</th>\n",
       "      <td>Afghanistan</td>\n",
       "      <td>0</td>\n",
       "    </tr>\n",
       "    <tr>\n",
       "      <th>NAM</th>\n",
       "      <td>Namibia</td>\n",
       "      <td>0</td>\n",
       "    </tr>\n",
       "    <tr>\n",
       "      <th>MNE</th>\n",
       "      <td>Montenegro</td>\n",
       "      <td>0</td>\n",
       "    </tr>\n",
       "    <tr>\n",
       "      <th>MDA</th>\n",
       "      <td>Moldova</td>\n",
       "      <td>0</td>\n",
       "    </tr>\n",
       "    <tr>\n",
       "      <th>MRI</th>\n",
       "      <td>Mauritius</td>\n",
       "      <td>0</td>\n",
       "    </tr>\n",
       "  </tbody>\n",
       "</table>\n",
       "</div>"
      ],
      "text/plain": [
       "          Country  SummerGold\n",
       "Code                         \n",
       "AFG   Afghanistan           0\n",
       "NAM       Namibia           0\n",
       "MNE    Montenegro           0\n",
       "MDA       Moldova           0\n",
       "MRI     Mauritius           0"
      ]
     },
     "execution_count": 127,
     "metadata": {},
     "output_type": "execute_result"
    }
   ],
   "source": [
    "medals.sort_values(ascending=True, by=\"SummerGold\").filter(['Country', 'SummerGold']).head(5)"
   ]
  },
  {
   "cell_type": "markdown",
   "id": "a35a4c7b",
   "metadata": {},
   "source": [
    "# 25.แสดงประเทศเรียงลำดับตามเหรียญทองฤดูร้อนจากมากไปน้อยถ้าได้เหรียญทองฤดูร้อนเท่ากันให้เรียงตามจำนวนการเข้าแข่งฤดูร้อนจากน้อยไปมาก"
   ]
  },
  {
   "cell_type": "code",
   "execution_count": 128,
   "id": "06400a44",
   "metadata": {},
   "outputs": [
    {
     "data": {
      "text/html": [
       "<div>\n",
       "<style scoped>\n",
       "    .dataframe tbody tr th:only-of-type {\n",
       "        vertical-align: middle;\n",
       "    }\n",
       "\n",
       "    .dataframe tbody tr th {\n",
       "        vertical-align: top;\n",
       "    }\n",
       "\n",
       "    .dataframe thead th {\n",
       "        text-align: right;\n",
       "    }\n",
       "</style>\n",
       "<table border=\"1\" class=\"dataframe\">\n",
       "  <thead>\n",
       "    <tr style=\"text-align: right;\">\n",
       "      <th></th>\n",
       "      <th>Country</th>\n",
       "      <th>SummerGold</th>\n",
       "      <th>SummerGame</th>\n",
       "    </tr>\n",
       "    <tr>\n",
       "      <th>Code</th>\n",
       "      <th></th>\n",
       "      <th></th>\n",
       "      <th></th>\n",
       "    </tr>\n",
       "  </thead>\n",
       "  <tbody>\n",
       "    <tr>\n",
       "      <th>USA</th>\n",
       "      <td>United States</td>\n",
       "      <td>976</td>\n",
       "      <td>26</td>\n",
       "    </tr>\n",
       "    <tr>\n",
       "      <th>URS</th>\n",
       "      <td>Soviet Union</td>\n",
       "      <td>395</td>\n",
       "      <td>9</td>\n",
       "    </tr>\n",
       "    <tr>\n",
       "      <th>GBR</th>\n",
       "      <td>Great Britain</td>\n",
       "      <td>236</td>\n",
       "      <td>27</td>\n",
       "    </tr>\n",
       "    <tr>\n",
       "      <th>FRA</th>\n",
       "      <td>France</td>\n",
       "      <td>202</td>\n",
       "      <td>27</td>\n",
       "    </tr>\n",
       "    <tr>\n",
       "      <th>CHN</th>\n",
       "      <td>China</td>\n",
       "      <td>201</td>\n",
       "      <td>9</td>\n",
       "    </tr>\n",
       "  </tbody>\n",
       "</table>\n",
       "</div>"
      ],
      "text/plain": [
       "            Country  SummerGold  SummerGame\n",
       "Code                                       \n",
       "USA   United States         976          26\n",
       "URS    Soviet Union         395           9\n",
       "GBR   Great Britain         236          27\n",
       "FRA          France         202          27\n",
       "CHN           China         201           9"
      ]
     },
     "execution_count": 128,
     "metadata": {},
     "output_type": "execute_result"
    }
   ],
   "source": [
    "medals.sort_values(by=[\"SummerGold\", \"SummerGame\"], ascending=[False, True]).filter(['Country', 'SummerGold', 'SummerGame']).head(5)"
   ]
  },
  {
   "cell_type": "code",
   "execution_count": 129,
   "id": "45e52494",
   "metadata": {},
   "outputs": [],
   "source": [
    "medals['TotalGold'] = medals['SummerGold'] + medals['WinterGold']\n",
    "medals['TotalSilver'] = medals['SummerSilver'] + medals['WinterSilver']\n",
    "medals['TotalBronze'] = medals['SummerBronze'] + medals['WinterBronze']"
   ]
  },
  {
   "cell_type": "markdown",
   "id": "75fa2ab5",
   "metadata": {},
   "source": [
    "# 26.ให้สร้างคอลัมน์ใหม่ในตาราง medals ให้ชื่อว่า score โดยคำนวณคะแนนรวมจากเหรียญที่แต่ละประเทศได้(ทั้งฤดูร้อนและหนาว) โดยให้เหรียญทองได้ 3 คะแนนเหรียญเงินได้ 2 คะแนนเหรียญทองแดงได้ 1 คะแนนแล้วแสดงข้อมูล 10 ประเทศแรกที่ได้คะแนนเยอะที่สุด"
   ]
  },
  {
   "cell_type": "code",
   "execution_count": 130,
   "id": "b97f0a67",
   "metadata": {},
   "outputs": [
    {
     "data": {
      "text/html": [
       "<div>\n",
       "<style scoped>\n",
       "    .dataframe tbody tr th:only-of-type {\n",
       "        vertical-align: middle;\n",
       "    }\n",
       "\n",
       "    .dataframe tbody tr th {\n",
       "        vertical-align: top;\n",
       "    }\n",
       "\n",
       "    .dataframe thead th {\n",
       "        text-align: right;\n",
       "    }\n",
       "</style>\n",
       "<table border=\"1\" class=\"dataframe\">\n",
       "  <thead>\n",
       "    <tr style=\"text-align: right;\">\n",
       "      <th></th>\n",
       "      <th>Country</th>\n",
       "      <th>score</th>\n",
       "    </tr>\n",
       "    <tr>\n",
       "      <th>Code</th>\n",
       "      <th></th>\n",
       "      <th></th>\n",
       "    </tr>\n",
       "  </thead>\n",
       "  <tbody>\n",
       "    <tr>\n",
       "      <th>USA</th>\n",
       "      <td>United States</td>\n",
       "      <td>5684</td>\n",
       "    </tr>\n",
       "    <tr>\n",
       "      <th>URS</th>\n",
       "      <td>Soviet Union</td>\n",
       "      <td>2526</td>\n",
       "    </tr>\n",
       "    <tr>\n",
       "      <th>GBR</th>\n",
       "      <td>Great Britain</td>\n",
       "      <td>1574</td>\n",
       "    </tr>\n",
       "    <tr>\n",
       "      <th>GER</th>\n",
       "      <td>Germany</td>\n",
       "      <td>1546</td>\n",
       "    </tr>\n",
       "    <tr>\n",
       "      <th>FRA</th>\n",
       "      <td>France</td>\n",
       "      <td>1500</td>\n",
       "    </tr>\n",
       "    <tr>\n",
       "      <th>ITA</th>\n",
       "      <td>Italy</td>\n",
       "      <td>1333</td>\n",
       "    </tr>\n",
       "    <tr>\n",
       "      <th>SWE</th>\n",
       "      <td>Sweden</td>\n",
       "      <td>1217</td>\n",
       "    </tr>\n",
       "    <tr>\n",
       "      <th>CHN</th>\n",
       "      <td>China</td>\n",
       "      <td>1120</td>\n",
       "    </tr>\n",
       "    <tr>\n",
       "      <th>GDR</th>\n",
       "      <td>East Germany</td>\n",
       "      <td>1068</td>\n",
       "    </tr>\n",
       "    <tr>\n",
       "      <th>RUS</th>\n",
       "      <td>Russia</td>\n",
       "      <td>1042</td>\n",
       "    </tr>\n",
       "  </tbody>\n",
       "</table>\n",
       "</div>"
      ],
      "text/plain": [
       "            Country  score\n",
       "Code                      \n",
       "USA   United States   5684\n",
       "URS    Soviet Union   2526\n",
       "GBR   Great Britain   1574\n",
       "GER         Germany   1546\n",
       "FRA          France   1500\n",
       "ITA           Italy   1333\n",
       "SWE          Sweden   1217\n",
       "CHN           China   1120\n",
       "GDR    East Germany   1068\n",
       "RUS          Russia   1042"
      ]
     },
     "execution_count": 130,
     "metadata": {},
     "output_type": "execute_result"
    }
   ],
   "source": [
    "medals['score'] = (medals['TotalGold'] * 3) + (medals['TotalSilver'] * 2) + (medals['TotalBronze'])\n",
    "medals.sort_values(by=\"score\", ascending=False).filter(['Country', 'score']).head(10)"
   ]
  },
  {
   "cell_type": "markdown",
   "id": "940c9853",
   "metadata": {},
   "source": [
    "# 27.การเปรียบเทียบคะแนนจากเหรียญทั้งหมดอาจจะไม่แฟร์เพราะแต่ละประเทศเข้าร่วมการแข่งขันไม่เท่ากันดังนั้นให้สร้างคอลัมน์ใหม่ในตาราง medals ชื่อว่า perGame โดยคำนวณคะแนนต่อการเข้าร่วมแข่งขัน(คะแนนคำนวณเหมือนเดิมแต่หารด้วยจำนวนเกมส์ที่เข้าแข่งขันแยกกันระหว่างฤดูร้อนกับฤดูหนาวค่าperGame จะเป็นผลบวกของคะแนนของฤดูร้อนกับฤดูหนาว) แสดงข้อมูล 10 ประเทศที่ได้คะแนนน้อยที่สุด1.ระวังตรวจสอบผลลัพธ์ให้ดีมี surprise นะข้อนี้"
   ]
  },
  {
   "cell_type": "code",
   "execution_count": 131,
   "id": "d7261607",
   "metadata": {},
   "outputs": [
    {
     "data": {
      "text/html": [
       "<div>\n",
       "<style scoped>\n",
       "    .dataframe tbody tr th:only-of-type {\n",
       "        vertical-align: middle;\n",
       "    }\n",
       "\n",
       "    .dataframe tbody tr th {\n",
       "        vertical-align: top;\n",
       "    }\n",
       "\n",
       "    .dataframe thead th {\n",
       "        text-align: right;\n",
       "    }\n",
       "</style>\n",
       "<table border=\"1\" class=\"dataframe\">\n",
       "  <thead>\n",
       "    <tr style=\"text-align: right;\">\n",
       "      <th></th>\n",
       "      <th>Country</th>\n",
       "      <th>perGame</th>\n",
       "    </tr>\n",
       "    <tr>\n",
       "      <th>Code</th>\n",
       "      <th></th>\n",
       "      <th></th>\n",
       "    </tr>\n",
       "  </thead>\n",
       "  <tbody>\n",
       "    <tr>\n",
       "      <th>BER</th>\n",
       "      <td>Bermuda</td>\n",
       "      <td>0.058824</td>\n",
       "    </tr>\n",
       "    <tr>\n",
       "      <th>TOG</th>\n",
       "      <td>Togo</td>\n",
       "      <td>0.111111</td>\n",
       "    </tr>\n",
       "    <tr>\n",
       "      <th>SEN</th>\n",
       "      <td>Senegal</td>\n",
       "      <td>0.153846</td>\n",
       "    </tr>\n",
       "    <tr>\n",
       "      <th>AHO</th>\n",
       "      <td>Netherlands Antilles</td>\n",
       "      <td>0.153846</td>\n",
       "    </tr>\n",
       "    <tr>\n",
       "      <th>GUA</th>\n",
       "      <td>Guatemala</td>\n",
       "      <td>0.153846</td>\n",
       "    </tr>\n",
       "    <tr>\n",
       "      <th>PAR</th>\n",
       "      <td>Paraguay</td>\n",
       "      <td>0.181818</td>\n",
       "    </tr>\n",
       "    <tr>\n",
       "      <th>ISV</th>\n",
       "      <td>Virgin Islands</td>\n",
       "      <td>0.181818</td>\n",
       "    </tr>\n",
       "    <tr>\n",
       "      <th>MKD</th>\n",
       "      <td>Macedonia</td>\n",
       "      <td>0.200000</td>\n",
       "    </tr>\n",
       "    <tr>\n",
       "      <th>CYP</th>\n",
       "      <td>Cyprus</td>\n",
       "      <td>0.222222</td>\n",
       "    </tr>\n",
       "    <tr>\n",
       "      <th>TGA</th>\n",
       "      <td>Tonga</td>\n",
       "      <td>0.250000</td>\n",
       "    </tr>\n",
       "  </tbody>\n",
       "</table>\n",
       "</div>"
      ],
      "text/plain": [
       "                   Country   perGame\n",
       "Code                                \n",
       "BER                Bermuda  0.058824\n",
       "TOG                   Togo  0.111111\n",
       "SEN                Senegal  0.153846\n",
       "AHO   Netherlands Antilles  0.153846\n",
       "GUA              Guatemala  0.153846\n",
       "PAR               Paraguay  0.181818\n",
       "ISV         Virgin Islands  0.181818\n",
       "MKD              Macedonia  0.200000\n",
       "CYP                 Cyprus  0.222222\n",
       "TGA                  Tonga  0.250000"
      ]
     },
     "execution_count": 131,
     "metadata": {},
     "output_type": "execute_result"
    }
   ],
   "source": [
    "medals['perGame'] = (((medals['SummerGold'] * 3) + (medals['SummerSilver'] * 2) + (medals['SummerBronze']))/medals['SummerGame']) + (((medals['WinterGold'] * 3) + (medals['WinterSilver'] * 2) + (medals['WinterBronze']))/medals['WinterGame'])\n",
    "medals.sort_values(by=\"perGame\", ascending=True).filter(['Country', 'perGame']).head(10)"
   ]
  }
 ],
 "metadata": {
  "kernelspec": {
   "display_name": "Python 3 (ipykernel)",
   "language": "python",
   "name": "python3"
  },
  "language_info": {
   "codemirror_mode": {
    "name": "ipython",
    "version": 3
   },
   "file_extension": ".py",
   "mimetype": "text/x-python",
   "name": "python",
   "nbconvert_exporter": "python",
   "pygments_lexer": "ipython3",
   "version": "3.9.7"
  }
 },
 "nbformat": 4,
 "nbformat_minor": 5
}
